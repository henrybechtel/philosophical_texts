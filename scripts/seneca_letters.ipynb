{
 "cells": [
  {
   "cell_type": "markdown",
   "metadata": {},
   "source": [
    "## Text Mining Seneca's Letters\n",
    "\n",
    "by Henry Bechtel\n",
    "\n",
    "Seneca was a famous Roman statesman, philosopher, and Stoic who lived in the first century CE. Seneca has, perhaps, the largest body of stoic writings that has survived from ancient times, of which, his letters to Lucilius are some of his most famous works. As I have a deep interest in Stoic philosophy and data science, his letters provide an excellent subject for exploration and application of unsupervied machine learning techniques.\n"
   ]
  },
  {
   "cell_type": "markdown",
   "metadata": {},
   "source": [
    "### Web Scraping\n",
    "\n",
    "First, we'll have to get Seneca's letters into a usable form. We will use BeautufulSoup to do some web scraping from the source below: \n",
    "\n",
    "__Moral letters to Lucilius__ (Epistulae morales ad Lucilium) <br>\n",
    "by Seneca, translated by Richard Mott Gummere <br>\n",
    "Loeb Classical Library edition; volume 1 published 1917; volume 2 published 1920; volume 3 published 1925 <br>\n",
    "Letters collected from https://en.wikisource.org/wiki/Moral_letters_to_Lucilius "
   ]
  },
  {
   "cell_type": "code",
   "execution_count": 7,
   "metadata": {
    "collapsed": true
   },
   "outputs": [],
   "source": [
    "import requests\n",
    "from bs4 import BeautifulSoup\n",
    "import pandas as pd\n",
    "\n",
    "pd.options.display.max_colwidth = 300"
   ]
  },
  {
   "cell_type": "code",
   "execution_count": 4,
   "metadata": {
    "collapsed": true
   },
   "outputs": [],
   "source": [
    "url_base_string = \"https://en.wikisource.org/wiki/Moral_letters_to_Lucilius/Letter_\" \n",
    "letters = pd.DataFrame(index=range(1,125), columns=[\"Letter\", \"Text\"])"
   ]
  },
  {
   "cell_type": "code",
   "execution_count": 5,
   "metadata": {
    "collapsed": true
   },
   "outputs": [],
   "source": [
    "for i in range(1, 125):\n",
    "    page = requests.get(url_base_string + str(i))\n",
    "    soup = BeautifulSoup(page.text, \"html.parser\")\n",
    "    letter_div = soup.find(class_='mw-parser-output')\n",
    "    letter_paragraphs = letter_div.find_all(\"p\")\n",
    "    letter_text = \"\"\n",
    "    for j in range(len(letter_paragraphs)):\n",
    "        letter_text = letter_text + letter_paragraphs[j].text\n",
    "        letters.loc[i, \"Letter\"] = str(i)\n",
    "        letters.loc[i, \"Text\"] = letter_text"
   ]
  },
  {
   "cell_type": "code",
   "execution_count": 9,
   "metadata": {},
   "outputs": [
    {
     "data": {
      "text/html": [
       "<div>\n",
       "<style>\n",
       "    .dataframe thead tr:only-child th {\n",
       "        text-align: right;\n",
       "    }\n",
       "\n",
       "    .dataframe thead th {\n",
       "        text-align: left;\n",
       "    }\n",
       "\n",
       "    .dataframe tbody tr th {\n",
       "        vertical-align: top;\n",
       "    }\n",
       "</style>\n",
       "<table border=\"1\" class=\"dataframe\">\n",
       "  <thead>\n",
       "    <tr style=\"text-align: right;\">\n",
       "      <th></th>\n",
       "      <th>Letter</th>\n",
       "      <th>Text</th>\n",
       "    </tr>\n",
       "  </thead>\n",
       "  <tbody>\n",
       "    <tr>\n",
       "      <th>1</th>\n",
       "      <td>1</td>\n",
       "      <td>Greetings from Seneca to his friend Lucilius. \\n1. Continue to act thus, my dear Lucilius – set yourself free for your own sake; gather and save your time, which till lately has been forced from you, or filched away, or has merely slipped from your hands. Make yourself believe the truth of my wo...</td>\n",
       "    </tr>\n",
       "    <tr>\n",
       "      <th>2</th>\n",
       "      <td>2</td>\n",
       "      <td>1. Judging by what you write me, and by what I hear, I am forming a good opinion regarding your future.  You do not run hither and thither and distract yourself by changing your abode; for such restlessness is the sign of a disordered spirit.  The primary indication, to my thinking, of a well-or...</td>\n",
       "    </tr>\n",
       "    <tr>\n",
       "      <th>3</th>\n",
       "      <td>3</td>\n",
       "      <td>1. You have sent a letter to me through the hand of a \"friend\" of yours, as you call him.  And in your very next sentence you warn me not to discuss with him all the matters that concern you, saying that even you yourself are not accustomed to do this; in other words, you have in the same letter...</td>\n",
       "    </tr>\n",
       "    <tr>\n",
       "      <th>4</th>\n",
       "      <td>4</td>\n",
       "      <td>1. Keep on as you have begun, and make all possible haste, so that you may have longer enjoyment of an improved mind, one that is at peace with itself.  Doubtless you will derive enjoyment during the time when you are improving your mind and setting it at peace with itself; but quite different i...</td>\n",
       "    </tr>\n",
       "    <tr>\n",
       "      <th>5</th>\n",
       "      <td>5</td>\n",
       "      <td>1. I commend you and rejoice in the fact that you are persistent in your studies, and that, putting all else aside, you make it each day your endeavour to become a better man.  I do not merely exhort you to keep at it; I actually beg you to do so.  I warn you, however, not to act after the fashi...</td>\n",
       "    </tr>\n",
       "  </tbody>\n",
       "</table>\n",
       "</div>"
      ],
      "text/plain": [
       "  Letter  \\\n",
       "1      1   \n",
       "2      2   \n",
       "3      3   \n",
       "4      4   \n",
       "5      5   \n",
       "\n",
       "                                                                                                                                                                                                                                                                                                          Text  \n",
       "1  Greetings from Seneca to his friend Lucilius. \\n1. Continue to act thus, my dear Lucilius – set yourself free for your own sake; gather and save your time, which till lately has been forced from you, or filched away, or has merely slipped from your hands. Make yourself believe the truth of my wo...  \n",
       "2  1. Judging by what you write me, and by what I hear, I am forming a good opinion regarding your future.  You do not run hither and thither and distract yourself by changing your abode; for such restlessness is the sign of a disordered spirit.  The primary indication, to my thinking, of a well-or...  \n",
       "3  1. You have sent a letter to me through the hand of a \"friend\" of yours, as you call him.  And in your very next sentence you warn me not to discuss with him all the matters that concern you, saying that even you yourself are not accustomed to do this; in other words, you have in the same letter...  \n",
       "4  1. Keep on as you have begun, and make all possible haste, so that you may have longer enjoyment of an improved mind, one that is at peace with itself.  Doubtless you will derive enjoyment during the time when you are improving your mind and setting it at peace with itself; but quite different i...  \n",
       "5  1. I commend you and rejoice in the fact that you are persistent in your studies, and that, putting all else aside, you make it each day your endeavour to become a better man.  I do not merely exhort you to keep at it; I actually beg you to do so.  I warn you, however, not to act after the fashi...  "
      ]
     },
     "execution_count": 9,
     "metadata": {},
     "output_type": "execute_result"
    }
   ],
   "source": [
    "letters.head()"
   ]
  },
  {
   "cell_type": "code",
   "execution_count": 583,
   "metadata": {
    "collapsed": true
   },
   "outputs": [],
   "source": [
    "letters.to_csv(\"../data/letters.csv\", index=False)"
   ]
  },
  {
   "cell_type": "markdown",
   "metadata": {},
   "source": [
    "### Unsupervised Machine Learning\n",
    "\n",
    "I'm ultimately interested in seeing what kinds of natural clusters/themes/topics are contained in the letters. First, we'll have to preprocess the text."
   ]
  },
  {
   "cell_type": "code",
   "execution_count": 5,
   "metadata": {
    "collapsed": true
   },
   "outputs": [],
   "source": [
    "import os\n",
    "import pandas as pd\n",
    "import matplotlib.pyplot as plt\n",
    "from sklearn.cluster import KMeans\n",
    "from sklearn.metrics.pairwise import cosine_similarity \n",
    "from sklearn.feature_extraction.text import ENGLISH_STOP_WORDS, TfidfVectorizer\n",
    "from scipy.cluster.hierarchy import dendrogram, ward\n",
    "from sklearn.decomposition import TruncatedSVD, NMF, LatentDirichletAllocation\n",
    "\n",
    "pd.options.display.max_colwidth = 300\n",
    "%matplotlib inline"
   ]
  },
  {
   "cell_type": "code",
   "execution_count": 6,
   "metadata": {
    "collapsed": true
   },
   "outputs": [],
   "source": [
    "letters = pd.read_csv(\"../data/letters.csv\", index_col=\"Letter\")"
   ]
  },
  {
   "cell_type": "code",
   "execution_count": 7,
   "metadata": {},
   "outputs": [
    {
     "data": {
      "text/plain": [
       "(124, 2)"
      ]
     },
     "execution_count": 7,
     "metadata": {},
     "output_type": "execute_result"
    }
   ],
   "source": [
    "letters.shape"
   ]
  },
  {
   "cell_type": "code",
   "execution_count": 8,
   "metadata": {},
   "outputs": [
    {
     "data": {
      "text/html": [
       "<div>\n",
       "<style>\n",
       "    .dataframe thead tr:only-child th {\n",
       "        text-align: right;\n",
       "    }\n",
       "\n",
       "    .dataframe thead th {\n",
       "        text-align: left;\n",
       "    }\n",
       "\n",
       "    .dataframe tbody tr th {\n",
       "        vertical-align: top;\n",
       "    }\n",
       "</style>\n",
       "<table border=\"1\" class=\"dataframe\">\n",
       "  <thead>\n",
       "    <tr style=\"text-align: right;\">\n",
       "      <th></th>\n",
       "      <th>Title</th>\n",
       "      <th>Text</th>\n",
       "    </tr>\n",
       "    <tr>\n",
       "      <th>Letter</th>\n",
       "      <th></th>\n",
       "      <th></th>\n",
       "    </tr>\n",
       "  </thead>\n",
       "  <tbody>\n",
       "    <tr>\n",
       "      <th>120</th>\n",
       "      <td>NaN</td>\n",
       "      <td>1. Your letter roamed, over several little problems, but finally dwelt upon this alone, asking for explanation: \"How do we acquire a knowledge of that which is good and that which is honourable?\" In the opinion of other schools,[1] these two qualities are distinct; among our followers, however, ...</td>\n",
       "    </tr>\n",
       "    <tr>\n",
       "      <th>121</th>\n",
       "      <td>NaN</td>\n",
       "      <td>1. You will bring suit against me, I feel sure, when I set forth for you to-day's little problem, with which we have already fumbled long enough.  You will cry out again: \"What has this to do with character?\" Cry out if you like, but let me first of all match you with other opponents,[1] against...</td>\n",
       "    </tr>\n",
       "    <tr>\n",
       "      <th>122</th>\n",
       "      <td>NaN</td>\n",
       "      <td>1. The day has already begun to lessen.  It has shrunk considerably, but yet will still allow a goodly space of time if one rises, so to speak, with the day itself.  We are more industrious, and we are better men if we anticipate the day and welcome the dawn; but we are base churls if we lie doz...</td>\n",
       "    </tr>\n",
       "    <tr>\n",
       "      <th>123</th>\n",
       "      <td>NaN</td>\n",
       "      <td>1. Wearied with the discomfort rather than with the length of my journey, I have reached my Alban villa late at night, and I find nothing in readiness except myself.  So I am getting rid of fatigue at my writing-table:  I derive some good from this tardiness on the part of my cook and my baker. ...</td>\n",
       "    </tr>\n",
       "    <tr>\n",
       "      <th>124</th>\n",
       "      <td>NaN</td>\n",
       "      <td>1. Full many an ancient precept could I give,\\nDidst thou not shrink, and feel it shame to learn\\nSuch lowly duties.[1]\\nBut you do not shrink, nor are you deterred by any subtleties of study. For your cultivated mind is not wont to investigate such important subjects in a free-and-easy manner. ...</td>\n",
       "    </tr>\n",
       "  </tbody>\n",
       "</table>\n",
       "</div>"
      ],
      "text/plain": [
       "        Title  \\\n",
       "Letter          \n",
       "120       NaN   \n",
       "121       NaN   \n",
       "122       NaN   \n",
       "123       NaN   \n",
       "124       NaN   \n",
       "\n",
       "                                                                                                                                                                                                                                                                                                               Text  \n",
       "Letter                                                                                                                                                                                                                                                                                                               \n",
       "120     1. Your letter roamed, over several little problems, but finally dwelt upon this alone, asking for explanation: \"How do we acquire a knowledge of that which is good and that which is honourable?\" In the opinion of other schools,[1] these two qualities are distinct; among our followers, however, ...  \n",
       "121     1. You will bring suit against me, I feel sure, when I set forth for you to-day's little problem, with which we have already fumbled long enough.  You will cry out again: \"What has this to do with character?\" Cry out if you like, but let me first of all match you with other opponents,[1] against...  \n",
       "122     1. The day has already begun to lessen.  It has shrunk considerably, but yet will still allow a goodly space of time if one rises, so to speak, with the day itself.  We are more industrious, and we are better men if we anticipate the day and welcome the dawn; but we are base churls if we lie doz...  \n",
       "123     1. Wearied with the discomfort rather than with the length of my journey, I have reached my Alban villa late at night, and I find nothing in readiness except myself.  So I am getting rid of fatigue at my writing-table:  I derive some good from this tardiness on the part of my cook and my baker. ...  \n",
       "124     1. Full many an ancient precept could I give,\\nDidst thou not shrink, and feel it shame to learn\\nSuch lowly duties.[1]\\nBut you do not shrink, nor are you deterred by any subtleties of study. For your cultivated mind is not wont to investigate such important subjects in a free-and-easy manner. ...  "
      ]
     },
     "execution_count": 8,
     "metadata": {},
     "output_type": "execute_result"
    }
   ],
   "source": [
    "letters.tail()"
   ]
  },
  {
   "cell_type": "code",
   "execution_count": 9,
   "metadata": {
    "collapsed": true
   },
   "outputs": [],
   "source": [
    "num = []\n",
    "for i in range(1000):\n",
    "    num.append(str(i))"
   ]
  },
  {
   "cell_type": "code",
   "execution_count": 15,
   "metadata": {
    "collapsed": true
   },
   "outputs": [],
   "source": [
    "my_stopwords = ENGLISH_STOP_WORDS.union(num)\n",
    "tfidf_vec = TfidfVectorizer(use_idf=False, \n",
    "                            stop_words=my_stopwords, \n",
    "                            max_features=10000 \n",
    "                           )"
   ]
  },
  {
   "cell_type": "code",
   "execution_count": 16,
   "metadata": {},
   "outputs": [
    {
     "name": "stderr",
     "output_type": "stream",
     "text": [
      "/anaconda/lib/python3.6/site-packages/sklearn/feature_extraction/text.py:1059: FutureWarning: Conversion of the second argument of issubdtype from `float` to `np.floating` is deprecated. In future, it will be treated as `np.float64 == np.dtype(float).type`.\n",
      "  if hasattr(X, 'dtype') and np.issubdtype(X.dtype, np.float):\n"
     ]
    }
   ],
   "source": [
    "tfidf_mat = tfidf_vec.fit_transform(letters['Text'])"
   ]
  },
  {
   "cell_type": "code",
   "execution_count": 17,
   "metadata": {},
   "outputs": [
    {
     "data": {
      "text/html": [
       "<div>\n",
       "<style>\n",
       "    .dataframe thead tr:only-child th {\n",
       "        text-align: right;\n",
       "    }\n",
       "\n",
       "    .dataframe thead th {\n",
       "        text-align: left;\n",
       "    }\n",
       "\n",
       "    .dataframe tbody tr th {\n",
       "        vertical-align: top;\n",
       "    }\n",
       "</style>\n",
       "<table border=\"1\" class=\"dataframe\">\n",
       "  <thead>\n",
       "    <tr style=\"text-align: right;\">\n",
       "      <th></th>\n",
       "      <th>abandon</th>\n",
       "      <th>abandoned</th>\n",
       "      <th>abandoning</th>\n",
       "      <th>abate</th>\n",
       "      <th>abated</th>\n",
       "      <th>abatement</th>\n",
       "      <th>abc</th>\n",
       "      <th>abdicated</th>\n",
       "      <th>abeam</th>\n",
       "      <th>abeyance</th>\n",
       "      <th>...</th>\n",
       "      <th>youthful</th>\n",
       "      <th>youths</th>\n",
       "      <th>zaleucus</th>\n",
       "      <th>zeal</th>\n",
       "      <th>zealous</th>\n",
       "      <th>zeno</th>\n",
       "      <th>zest</th>\n",
       "      <th>οὐσία</th>\n",
       "      <th>σοφία</th>\n",
       "      <th>ἀδιάφορα</th>\n",
       "    </tr>\n",
       "    <tr>\n",
       "      <th>Letter</th>\n",
       "      <th></th>\n",
       "      <th></th>\n",
       "      <th></th>\n",
       "      <th></th>\n",
       "      <th></th>\n",
       "      <th></th>\n",
       "      <th></th>\n",
       "      <th></th>\n",
       "      <th></th>\n",
       "      <th></th>\n",
       "      <th></th>\n",
       "      <th></th>\n",
       "      <th></th>\n",
       "      <th></th>\n",
       "      <th></th>\n",
       "      <th></th>\n",
       "      <th></th>\n",
       "      <th></th>\n",
       "      <th></th>\n",
       "      <th></th>\n",
       "      <th></th>\n",
       "    </tr>\n",
       "  </thead>\n",
       "  <tbody>\n",
       "    <tr>\n",
       "      <th>1</th>\n",
       "      <td>0.0</td>\n",
       "      <td>0.0</td>\n",
       "      <td>0.0</td>\n",
       "      <td>0.0</td>\n",
       "      <td>0.0</td>\n",
       "      <td>0.0</td>\n",
       "      <td>0.0</td>\n",
       "      <td>0.0</td>\n",
       "      <td>0.0</td>\n",
       "      <td>0.0</td>\n",
       "      <td>...</td>\n",
       "      <td>0.0</td>\n",
       "      <td>0.0</td>\n",
       "      <td>0.0</td>\n",
       "      <td>0.0</td>\n",
       "      <td>0.0</td>\n",
       "      <td>0.0</td>\n",
       "      <td>0.0</td>\n",
       "      <td>0.0</td>\n",
       "      <td>0.0</td>\n",
       "      <td>0.0</td>\n",
       "    </tr>\n",
       "    <tr>\n",
       "      <th>2</th>\n",
       "      <td>0.0</td>\n",
       "      <td>0.0</td>\n",
       "      <td>0.0</td>\n",
       "      <td>0.0</td>\n",
       "      <td>0.0</td>\n",
       "      <td>0.0</td>\n",
       "      <td>0.0</td>\n",
       "      <td>0.0</td>\n",
       "      <td>0.0</td>\n",
       "      <td>0.0</td>\n",
       "      <td>...</td>\n",
       "      <td>0.0</td>\n",
       "      <td>0.0</td>\n",
       "      <td>0.0</td>\n",
       "      <td>0.0</td>\n",
       "      <td>0.0</td>\n",
       "      <td>0.0</td>\n",
       "      <td>0.0</td>\n",
       "      <td>0.0</td>\n",
       "      <td>0.0</td>\n",
       "      <td>0.0</td>\n",
       "    </tr>\n",
       "    <tr>\n",
       "      <th>3</th>\n",
       "      <td>0.0</td>\n",
       "      <td>0.0</td>\n",
       "      <td>0.0</td>\n",
       "      <td>0.0</td>\n",
       "      <td>0.0</td>\n",
       "      <td>0.0</td>\n",
       "      <td>0.0</td>\n",
       "      <td>0.0</td>\n",
       "      <td>0.0</td>\n",
       "      <td>0.0</td>\n",
       "      <td>...</td>\n",
       "      <td>0.0</td>\n",
       "      <td>0.0</td>\n",
       "      <td>0.0</td>\n",
       "      <td>0.0</td>\n",
       "      <td>0.0</td>\n",
       "      <td>0.0</td>\n",
       "      <td>0.0</td>\n",
       "      <td>0.0</td>\n",
       "      <td>0.0</td>\n",
       "      <td>0.0</td>\n",
       "    </tr>\n",
       "    <tr>\n",
       "      <th>4</th>\n",
       "      <td>0.0</td>\n",
       "      <td>0.0</td>\n",
       "      <td>0.0</td>\n",
       "      <td>0.0</td>\n",
       "      <td>0.0</td>\n",
       "      <td>0.0</td>\n",
       "      <td>0.0</td>\n",
       "      <td>0.0</td>\n",
       "      <td>0.0</td>\n",
       "      <td>0.0</td>\n",
       "      <td>...</td>\n",
       "      <td>0.0</td>\n",
       "      <td>0.0</td>\n",
       "      <td>0.0</td>\n",
       "      <td>0.0</td>\n",
       "      <td>0.0</td>\n",
       "      <td>0.0</td>\n",
       "      <td>0.0</td>\n",
       "      <td>0.0</td>\n",
       "      <td>0.0</td>\n",
       "      <td>0.0</td>\n",
       "    </tr>\n",
       "    <tr>\n",
       "      <th>5</th>\n",
       "      <td>0.0</td>\n",
       "      <td>0.0</td>\n",
       "      <td>0.0</td>\n",
       "      <td>0.0</td>\n",
       "      <td>0.0</td>\n",
       "      <td>0.0</td>\n",
       "      <td>0.0</td>\n",
       "      <td>0.0</td>\n",
       "      <td>0.0</td>\n",
       "      <td>0.0</td>\n",
       "      <td>...</td>\n",
       "      <td>0.0</td>\n",
       "      <td>0.0</td>\n",
       "      <td>0.0</td>\n",
       "      <td>0.0</td>\n",
       "      <td>0.0</td>\n",
       "      <td>0.0</td>\n",
       "      <td>0.0</td>\n",
       "      <td>0.0</td>\n",
       "      <td>0.0</td>\n",
       "      <td>0.0</td>\n",
       "    </tr>\n",
       "  </tbody>\n",
       "</table>\n",
       "<p>5 rows × 10000 columns</p>\n",
       "</div>"
      ],
      "text/plain": [
       "        abandon  abandoned  abandoning  abate  abated  abatement  abc  \\\n",
       "Letter                                                                  \n",
       "1           0.0        0.0         0.0    0.0     0.0        0.0  0.0   \n",
       "2           0.0        0.0         0.0    0.0     0.0        0.0  0.0   \n",
       "3           0.0        0.0         0.0    0.0     0.0        0.0  0.0   \n",
       "4           0.0        0.0         0.0    0.0     0.0        0.0  0.0   \n",
       "5           0.0        0.0         0.0    0.0     0.0        0.0  0.0   \n",
       "\n",
       "        abdicated  abeam  abeyance    ...     youthful  youths  zaleucus  \\\n",
       "Letter                                ...                                  \n",
       "1             0.0    0.0       0.0    ...          0.0     0.0       0.0   \n",
       "2             0.0    0.0       0.0    ...          0.0     0.0       0.0   \n",
       "3             0.0    0.0       0.0    ...          0.0     0.0       0.0   \n",
       "4             0.0    0.0       0.0    ...          0.0     0.0       0.0   \n",
       "5             0.0    0.0       0.0    ...          0.0     0.0       0.0   \n",
       "\n",
       "        zeal  zealous  zeno  zest  οὐσία  σοφία  ἀδιάφορα  \n",
       "Letter                                                     \n",
       "1        0.0      0.0   0.0   0.0    0.0    0.0       0.0  \n",
       "2        0.0      0.0   0.0   0.0    0.0    0.0       0.0  \n",
       "3        0.0      0.0   0.0   0.0    0.0    0.0       0.0  \n",
       "4        0.0      0.0   0.0   0.0    0.0    0.0       0.0  \n",
       "5        0.0      0.0   0.0   0.0    0.0    0.0       0.0  \n",
       "\n",
       "[5 rows x 10000 columns]"
      ]
     },
     "execution_count": 17,
     "metadata": {},
     "output_type": "execute_result"
    }
   ],
   "source": [
    "tfidf_df = pd.DataFrame(tfidf_mat.A, columns=tfidf_vec.get_feature_names(), index=letters.index)\n",
    "tfidf_df.head()"
   ]
  },
  {
   "cell_type": "markdown",
   "metadata": {},
   "source": [
    "#### What words have the highest frequency? \n",
    "(we have not weigthed by idf yet)"
   ]
  },
  {
   "cell_type": "code",
   "execution_count": 18,
   "metadata": {},
   "outputs": [
    {
     "data": {
      "text/plain": [
       "man        26.274663\n",
       "men        16.181845\n",
       "good       14.049071\n",
       "things     13.018523\n",
       "life       11.817009\n",
       "shall      11.191831\n",
       "time       10.031393\n",
       "does        9.560842\n",
       "make        7.631338\n",
       "say         7.425720\n",
       "mind        7.260105\n",
       "death       7.146336\n",
       "let         7.012226\n",
       "great       6.877144\n",
       "soul        6.808156\n",
       "know        6.521241\n",
       "just        6.421807\n",
       "nature      5.936524\n",
       "reason      5.823513\n",
       "words       5.765676\n",
       "day         5.739867\n",
       "long        5.644703\n",
       "way         5.529750\n",
       "fear        5.392518\n",
       "certain     4.961496\n",
       "thing       4.939437\n",
       "virtue      4.813560\n",
       "like        4.731348\n",
       "merely      4.669905\n",
       "come        4.634778\n",
       "dtype: float64"
      ]
     },
     "execution_count": 18,
     "metadata": {},
     "output_type": "execute_result"
    }
   ],
   "source": [
    "tfidf_df.sum().sort_values(ascending=False).head(30)"
   ]
  },
  {
   "cell_type": "markdown",
   "metadata": {},
   "source": [
    "Let's see which letters have the highest frequency of specific words (try \"control\", \"external\", \"prosperity\")"
   ]
  },
  {
   "cell_type": "code",
   "execution_count": 20,
   "metadata": {},
   "outputs": [
    {
     "data": {
      "text/plain": [
       "Letter\n",
       "37     0.142857\n",
       "23     0.113796\n",
       "105    0.098533\n",
       "85     0.092912\n",
       "40     0.088197\n",
       "106    0.075112\n",
       "111    0.066965\n",
       "32     0.057448\n",
       "93     0.053877\n",
       "39     0.053452\n",
       "Name: control, dtype: float64"
      ]
     },
     "execution_count": 20,
     "metadata": {},
     "output_type": "execute_result"
    }
   ],
   "source": [
    "tfidf_df[\"control\"].sort_values(ascending=False).head(10)"
   ]
  },
  {
   "cell_type": "code",
   "execution_count": null,
   "metadata": {
    "collapsed": true
   },
   "outputs": [],
   "source": []
  },
  {
   "cell_type": "code",
   "execution_count": null,
   "metadata": {
    "collapsed": true
   },
   "outputs": [],
   "source": []
  },
  {
   "cell_type": "markdown",
   "metadata": {},
   "source": [
    "#### Now we will weight by inverse document frequency"
   ]
  },
  {
   "cell_type": "code",
   "execution_count": 21,
   "metadata": {
    "collapsed": true
   },
   "outputs": [],
   "source": [
    "tfidf_vec.use_idf = True"
   ]
  },
  {
   "cell_type": "code",
   "execution_count": 22,
   "metadata": {},
   "outputs": [
    {
     "name": "stderr",
     "output_type": "stream",
     "text": [
      "/anaconda/lib/python3.6/site-packages/sklearn/feature_extraction/text.py:1059: FutureWarning: Conversion of the second argument of issubdtype from `float` to `np.floating` is deprecated. In future, it will be treated as `np.float64 == np.dtype(float).type`.\n",
      "  if hasattr(X, 'dtype') and np.issubdtype(X.dtype, np.float):\n"
     ]
    }
   ],
   "source": [
    "tfidf_mat = tfidf_vec.fit_transform(letters['Text'])"
   ]
  },
  {
   "cell_type": "code",
   "execution_count": 23,
   "metadata": {},
   "outputs": [
    {
     "data": {
      "text/html": [
       "<div>\n",
       "<style>\n",
       "    .dataframe thead tr:only-child th {\n",
       "        text-align: right;\n",
       "    }\n",
       "\n",
       "    .dataframe thead th {\n",
       "        text-align: left;\n",
       "    }\n",
       "\n",
       "    .dataframe tbody tr th {\n",
       "        vertical-align: top;\n",
       "    }\n",
       "</style>\n",
       "<table border=\"1\" class=\"dataframe\">\n",
       "  <thead>\n",
       "    <tr style=\"text-align: right;\">\n",
       "      <th></th>\n",
       "      <th>abandon</th>\n",
       "      <th>abandoned</th>\n",
       "      <th>abandoning</th>\n",
       "      <th>abate</th>\n",
       "      <th>abated</th>\n",
       "      <th>abatement</th>\n",
       "      <th>abc</th>\n",
       "      <th>abdicated</th>\n",
       "      <th>abeam</th>\n",
       "      <th>abeyance</th>\n",
       "      <th>...</th>\n",
       "      <th>youthful</th>\n",
       "      <th>youths</th>\n",
       "      <th>zaleucus</th>\n",
       "      <th>zeal</th>\n",
       "      <th>zealous</th>\n",
       "      <th>zeno</th>\n",
       "      <th>zest</th>\n",
       "      <th>οὐσία</th>\n",
       "      <th>σοφία</th>\n",
       "      <th>ἀδιάφορα</th>\n",
       "    </tr>\n",
       "    <tr>\n",
       "      <th>Letter</th>\n",
       "      <th></th>\n",
       "      <th></th>\n",
       "      <th></th>\n",
       "      <th></th>\n",
       "      <th></th>\n",
       "      <th></th>\n",
       "      <th></th>\n",
       "      <th></th>\n",
       "      <th></th>\n",
       "      <th></th>\n",
       "      <th></th>\n",
       "      <th></th>\n",
       "      <th></th>\n",
       "      <th></th>\n",
       "      <th></th>\n",
       "      <th></th>\n",
       "      <th></th>\n",
       "      <th></th>\n",
       "      <th></th>\n",
       "      <th></th>\n",
       "      <th></th>\n",
       "    </tr>\n",
       "  </thead>\n",
       "  <tbody>\n",
       "    <tr>\n",
       "      <th>1</th>\n",
       "      <td>0.0</td>\n",
       "      <td>0.0</td>\n",
       "      <td>0.0</td>\n",
       "      <td>0.0</td>\n",
       "      <td>0.0</td>\n",
       "      <td>0.0</td>\n",
       "      <td>0.0</td>\n",
       "      <td>0.0</td>\n",
       "      <td>0.0</td>\n",
       "      <td>0.0</td>\n",
       "      <td>...</td>\n",
       "      <td>0.0</td>\n",
       "      <td>0.0</td>\n",
       "      <td>0.0</td>\n",
       "      <td>0.0</td>\n",
       "      <td>0.0</td>\n",
       "      <td>0.0</td>\n",
       "      <td>0.0</td>\n",
       "      <td>0.0</td>\n",
       "      <td>0.0</td>\n",
       "      <td>0.0</td>\n",
       "    </tr>\n",
       "    <tr>\n",
       "      <th>2</th>\n",
       "      <td>0.0</td>\n",
       "      <td>0.0</td>\n",
       "      <td>0.0</td>\n",
       "      <td>0.0</td>\n",
       "      <td>0.0</td>\n",
       "      <td>0.0</td>\n",
       "      <td>0.0</td>\n",
       "      <td>0.0</td>\n",
       "      <td>0.0</td>\n",
       "      <td>0.0</td>\n",
       "      <td>...</td>\n",
       "      <td>0.0</td>\n",
       "      <td>0.0</td>\n",
       "      <td>0.0</td>\n",
       "      <td>0.0</td>\n",
       "      <td>0.0</td>\n",
       "      <td>0.0</td>\n",
       "      <td>0.0</td>\n",
       "      <td>0.0</td>\n",
       "      <td>0.0</td>\n",
       "      <td>0.0</td>\n",
       "    </tr>\n",
       "    <tr>\n",
       "      <th>3</th>\n",
       "      <td>0.0</td>\n",
       "      <td>0.0</td>\n",
       "      <td>0.0</td>\n",
       "      <td>0.0</td>\n",
       "      <td>0.0</td>\n",
       "      <td>0.0</td>\n",
       "      <td>0.0</td>\n",
       "      <td>0.0</td>\n",
       "      <td>0.0</td>\n",
       "      <td>0.0</td>\n",
       "      <td>...</td>\n",
       "      <td>0.0</td>\n",
       "      <td>0.0</td>\n",
       "      <td>0.0</td>\n",
       "      <td>0.0</td>\n",
       "      <td>0.0</td>\n",
       "      <td>0.0</td>\n",
       "      <td>0.0</td>\n",
       "      <td>0.0</td>\n",
       "      <td>0.0</td>\n",
       "      <td>0.0</td>\n",
       "    </tr>\n",
       "    <tr>\n",
       "      <th>4</th>\n",
       "      <td>0.0</td>\n",
       "      <td>0.0</td>\n",
       "      <td>0.0</td>\n",
       "      <td>0.0</td>\n",
       "      <td>0.0</td>\n",
       "      <td>0.0</td>\n",
       "      <td>0.0</td>\n",
       "      <td>0.0</td>\n",
       "      <td>0.0</td>\n",
       "      <td>0.0</td>\n",
       "      <td>...</td>\n",
       "      <td>0.0</td>\n",
       "      <td>0.0</td>\n",
       "      <td>0.0</td>\n",
       "      <td>0.0</td>\n",
       "      <td>0.0</td>\n",
       "      <td>0.0</td>\n",
       "      <td>0.0</td>\n",
       "      <td>0.0</td>\n",
       "      <td>0.0</td>\n",
       "      <td>0.0</td>\n",
       "    </tr>\n",
       "    <tr>\n",
       "      <th>5</th>\n",
       "      <td>0.0</td>\n",
       "      <td>0.0</td>\n",
       "      <td>0.0</td>\n",
       "      <td>0.0</td>\n",
       "      <td>0.0</td>\n",
       "      <td>0.0</td>\n",
       "      <td>0.0</td>\n",
       "      <td>0.0</td>\n",
       "      <td>0.0</td>\n",
       "      <td>0.0</td>\n",
       "      <td>...</td>\n",
       "      <td>0.0</td>\n",
       "      <td>0.0</td>\n",
       "      <td>0.0</td>\n",
       "      <td>0.0</td>\n",
       "      <td>0.0</td>\n",
       "      <td>0.0</td>\n",
       "      <td>0.0</td>\n",
       "      <td>0.0</td>\n",
       "      <td>0.0</td>\n",
       "      <td>0.0</td>\n",
       "    </tr>\n",
       "  </tbody>\n",
       "</table>\n",
       "<p>5 rows × 10000 columns</p>\n",
       "</div>"
      ],
      "text/plain": [
       "        abandon  abandoned  abandoning  abate  abated  abatement  abc  \\\n",
       "Letter                                                                  \n",
       "1           0.0        0.0         0.0    0.0     0.0        0.0  0.0   \n",
       "2           0.0        0.0         0.0    0.0     0.0        0.0  0.0   \n",
       "3           0.0        0.0         0.0    0.0     0.0        0.0  0.0   \n",
       "4           0.0        0.0         0.0    0.0     0.0        0.0  0.0   \n",
       "5           0.0        0.0         0.0    0.0     0.0        0.0  0.0   \n",
       "\n",
       "        abdicated  abeam  abeyance    ...     youthful  youths  zaleucus  \\\n",
       "Letter                                ...                                  \n",
       "1             0.0    0.0       0.0    ...          0.0     0.0       0.0   \n",
       "2             0.0    0.0       0.0    ...          0.0     0.0       0.0   \n",
       "3             0.0    0.0       0.0    ...          0.0     0.0       0.0   \n",
       "4             0.0    0.0       0.0    ...          0.0     0.0       0.0   \n",
       "5             0.0    0.0       0.0    ...          0.0     0.0       0.0   \n",
       "\n",
       "        zeal  zealous  zeno  zest  οὐσία  σοφία  ἀδιάφορα  \n",
       "Letter                                                     \n",
       "1        0.0      0.0   0.0   0.0    0.0    0.0       0.0  \n",
       "2        0.0      0.0   0.0   0.0    0.0    0.0       0.0  \n",
       "3        0.0      0.0   0.0   0.0    0.0    0.0       0.0  \n",
       "4        0.0      0.0   0.0   0.0    0.0    0.0       0.0  \n",
       "5        0.0      0.0   0.0   0.0    0.0    0.0       0.0  \n",
       "\n",
       "[5 rows x 10000 columns]"
      ]
     },
     "execution_count": 23,
     "metadata": {},
     "output_type": "execute_result"
    }
   ],
   "source": [
    "tfidf_df = pd.DataFrame(tfidf_mat.A, columns=tfidf_vec.get_feature_names(), index=letters.index)\n",
    "tfidf_df.head()"
   ]
  },
  {
   "cell_type": "markdown",
   "metadata": {},
   "source": [
    "#### and see which words have the highest tf-idf values"
   ]
  },
  {
   "cell_type": "code",
   "execution_count": 24,
   "metadata": {},
   "outputs": [
    {
     "data": {
      "text/plain": [
       "living          0.663604\n",
       "precepts        0.525898\n",
       "slaves          0.523321\n",
       "death           0.504119\n",
       "corporeal       0.501728\n",
       "desirable       0.492021\n",
       "sabinus         0.486582\n",
       "constitution    0.480408\n",
       "grief           0.471050\n",
       "liberal         0.468448\n",
       "wise            0.457596\n",
       "wisdom          0.446537\n",
       "cause           0.441732\n",
       "joy             0.415757\n",
       "philosophy      0.410777\n",
       "dtype: float64"
      ]
     },
     "execution_count": 24,
     "metadata": {},
     "output_type": "execute_result"
    }
   ],
   "source": [
    "tfidf_df.max().sort_values(ascending=False).head(15)"
   ]
  },
  {
   "cell_type": "code",
   "execution_count": null,
   "metadata": {
    "collapsed": true
   },
   "outputs": [],
   "source": []
  },
  {
   "cell_type": "markdown",
   "metadata": {},
   "source": [
    "#### Hierarchical Clustering\n",
    "\n",
    "By using hierarchical clustering, we can get a (visual) sense of whether or not there are any natural clusters across Seneca's 124 letters."
   ]
  },
  {
   "cell_type": "code",
   "execution_count": 25,
   "metadata": {
    "collapsed": true
   },
   "outputs": [],
   "source": [
    "dist = 1 - cosine_similarity(X=tfidf_mat)"
   ]
  },
  {
   "cell_type": "code",
   "execution_count": 26,
   "metadata": {},
   "outputs": [
    {
     "data": {
      "image/png": "[encoded data removed]",
      "text/plain": [
       "<matplotlib.figure.Figure at 0x1198f4278>"
      ]
     },
     "metadata": {},
     "output_type": "display_data"
    }
   ],
   "source": [
    "fig, ax = plt.subplots(1,1, figsize=(15,10))\n",
    "ax = dendrogram(ward(dist), orientation='right', labels=letters.index)\n",
    "plt.show()"
   ]
  },
  {
   "cell_type": "markdown",
   "metadata": {},
   "source": [
    "#### K-means Clustering"
   ]
  },
  {
   "cell_type": "code",
   "execution_count": 27,
   "metadata": {
    "collapsed": true
   },
   "outputs": [],
   "source": [
    "num_clusters = 3\n",
    "km = KMeans(n_clusters=num_clusters)"
   ]
  },
  {
   "cell_type": "code",
   "execution_count": 28,
   "metadata": {
    "collapsed": true
   },
   "outputs": [],
   "source": [
    "model = km.fit(tfidf_mat)"
   ]
  },
  {
   "cell_type": "code",
   "execution_count": 29,
   "metadata": {},
   "outputs": [
    {
     "data": {
      "text/plain": [
       "array([[2111, 5453, 5647, ..., 3195, 3196, 2485],\n",
       "       [4098, 5647, 9567, ..., 4656, 4660, 9999],\n",
       "       [5647, 5734, 7565, ..., 3858, 9198, 9999]])"
      ]
     },
     "execution_count": 29,
     "metadata": {},
     "output_type": "execute_result"
    }
   ],
   "source": [
    "model_centroids_sorted = model.cluster_centers_.argsort()[:,::-1]\n",
    "model_centroids_sorted"
   ]
  },
  {
   "cell_type": "code",
   "execution_count": 30,
   "metadata": {},
   "outputs": [
    {
     "name": "stdout",
     "output_type": "stream",
     "text": [
      "Cluster0:  death,  life,  man,  time,  things,  men,  shall,  day,  old,  long, \n",
      "Cluster1:  good,  man,  virtue,  things,  wise,  does,  happy,  soul,  goods,  men, \n",
      "Cluster2:  man,  men,  shall,  philosophy,  things,  words,  good,  time,  great,  nature, \n"
     ]
    }
   ],
   "source": [
    "feature_names = tfidf_vec.get_feature_names()\n",
    "top_words_string = \"\"\n",
    "\n",
    "for i in range(num_clusters):\n",
    "    top_words_string = \"Cluster\" + str(i) + \": \"\n",
    "    for term_idx in model_centroids_sorted[i, :10]:\n",
    "        top_words_string = top_words_string + \" \" + feature_names[term_idx] + \", \"\n",
    "    print(top_words_string)"
   ]
  },
  {
   "cell_type": "code",
   "execution_count": 31,
   "metadata": {
    "collapsed": true
   },
   "outputs": [],
   "source": [
    "tfidf_df[\"cluster\"] = km.labels_"
   ]
  },
  {
   "cell_type": "code",
   "execution_count": 32,
   "metadata": {},
   "outputs": [
    {
     "data": {
      "image/png": "[encoded data removed]",
      "text/plain": [
       "<matplotlib.figure.Figure at 0x11a4426d8>"
      ]
     },
     "metadata": {},
     "output_type": "display_data"
    }
   ],
   "source": [
    "tfidf_df[\"cluster\"].value_counts().plot(\"bar\");"
   ]
  },
  {
   "cell_type": "code",
   "execution_count": null,
   "metadata": {
    "collapsed": true
   },
   "outputs": [],
   "source": []
  },
  {
   "cell_type": "code",
   "execution_count": 57,
   "metadata": {
    "collapsed": true
   },
   "outputs": [],
   "source": [
    "number_of_components = 3\n",
    "svd = TruncatedSVD(n_components=number_of_components)"
   ]
  },
  {
   "cell_type": "code",
   "execution_count": 58,
   "metadata": {},
   "outputs": [],
   "source": [
    "doc_topic = svd.fit_transform(tfidf_mat)"
   ]
  },
  {
   "cell_type": "code",
   "execution_count": 59,
   "metadata": {
    "collapsed": true
   },
   "outputs": [],
   "source": [
    "topic_terms = svd.components_"
   ]
  },
  {
   "cell_type": "code",
   "execution_count": 60,
   "metadata": {},
   "outputs": [
    {
     "data": {
      "text/plain": [
       "(124, 3)"
      ]
     },
     "execution_count": 60,
     "metadata": {},
     "output_type": "execute_result"
    }
   ],
   "source": [
    "doc_topic.shape"
   ]
  },
  {
   "cell_type": "code",
   "execution_count": 61,
   "metadata": {},
   "outputs": [
    {
     "data": {
      "text/plain": [
       "(3, 10000)"
      ]
     },
     "execution_count": 61,
     "metadata": {},
     "output_type": "execute_result"
    }
   ],
   "source": [
    "topic_terms.shape"
   ]
  },
  {
   "cell_type": "code",
   "execution_count": 62,
   "metadata": {},
   "outputs": [],
   "source": [
    "top_word_indexes = svd.components_.argsort()[:,::-1]"
   ]
  },
  {
   "cell_type": "code",
   "execution_count": 63,
   "metadata": {},
   "outputs": [
    {
     "name": "stdout",
     "output_type": "stream",
     "text": [
      "Component0:  man,  good,  men,  things,  life,  death,  shall,  virtue,  does,  time, \n",
      "Component1:  death,  life,  time,  day,  old,  die,  friend,  long,  dying,  live, \n",
      "Component2:  death,  virtue,  good,  pain,  life,  goods,  fear,  die,  dying,  honourable, \n"
     ]
    }
   ],
   "source": [
    "for i in range(number_of_components):\n",
    "    top_words_string = \"Component\" + str(i) + \": \"\n",
    "    for term_idx in top_word_indexes[i, :10]:\n",
    "        top_words_string = top_words_string + \" \" + feature_names[term_idx] + \", \"\n",
    "    print(top_words_string)"
   ]
  },
  {
   "cell_type": "code",
   "execution_count": null,
   "metadata": {
    "collapsed": true
   },
   "outputs": [],
   "source": []
  },
  {
   "cell_type": "code",
   "execution_count": null,
   "metadata": {
    "collapsed": true
   },
   "outputs": [],
   "source": []
  }
 ],
 "metadata": {
  "kernelspec": {
   "display_name": "Python 3",
   "language": "python",
   "name": "python3"
  },
  "language_info": {
   "codemirror_mode": {
    "name": "ipython",
    "version": 3
   },
   "file_extension": ".py",
   "mimetype": "text/x-python",
   "name": "python",
   "nbconvert_exporter": "python",
   "pygments_lexer": "ipython3",
   "version": "3.6.8"
  }
 },
 "nbformat": 4,
 "nbformat_minor": 2
}
