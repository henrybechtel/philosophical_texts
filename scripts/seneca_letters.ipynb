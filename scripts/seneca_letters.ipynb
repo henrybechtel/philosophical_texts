{
 "cells": [
  {
   "cell_type": "markdown",
   "metadata": {},
   "source": [
    "## Text Mining Seneca's Letters\n",
    "\n",
    "by Henry Bechtel\n",
    "\n",
    "Seneca was a famous Roman statesman, philosopher, and Stoic who lived in the first century CE. Seneca has, perhaps, the largest body of stoic writings that has survived from ancient times, of which, his letters to Lucilius are some of his most famous works. As I have a deep interest in Stoic philosophy and data science, his letters provide an excellent subject for exploration and application of unsupervied machine learning techniques.\n"
   ]
  },
  {
   "cell_type": "markdown",
   "metadata": {},
   "source": [
    "### Web Scraping\n",
    "\n",
    "First, we'll have to get Seneca's letters into a usable form. We will use BeautufulSoup to do some web scraping from the source below: \n",
    "\n",
    "__Moral letters to Lucilius__ (Epistulae morales ad Lucilium) <br>\n",
    "by Seneca, translated by Richard Mott Gummere <br>\n",
    "Loeb Classical Library edition; volume 1 published 1917; volume 2 published 1920; volume 3 published 1925 <br>\n",
    "Letters collected from https://en.wikisource.org/wiki/Moral_letters_to_Lucilius "
   ]
  },
  {
   "cell_type": "code",
   "execution_count": 397,
   "metadata": {
    "collapsed": true
   },
   "outputs": [],
   "source": [
    "import requests\n",
    "from bs4 import BeautifulSoup"
   ]
  },
  {
   "cell_type": "code",
   "execution_count": 525,
   "metadata": {
    "collapsed": true
   },
   "outputs": [],
   "source": [
    "url_base_string = \"https://en.wikisource.org/wiki/Moral_letters_to_Lucilius/Letter_\" \n",
    "letters = pd.DataFrame(index=range(1,125), columns=[\"Letter\", \"Title\", \"Text\"])"
   ]
  },
  {
   "cell_type": "code",
   "execution_count": 526,
   "metadata": {
    "collapsed": true
   },
   "outputs": [],
   "source": [
    "for i in range(1, 125):\n",
    "    page = requests.get(url_base_string + str(i))\n",
    "    soup = BeautifulSoup(page.text, \"html.parser\")\n",
    "    letter_div = soup.find(class_='mw-parser-output')\n",
    "    letter_paragraphs = letter_div.find_all(\"p\")\n",
    "    letter_text = \"\"\n",
    "    for j in range(len(letter_paragraphs)):\n",
    "        letter_text = letter_text + letter_paragraphs[j].text\n",
    "        letters.loc[i, \"Letter\"] = str(i)\n",
    "        letters.loc[i, \"Text\"] = letter_text"
   ]
  },
  {
   "cell_type": "code",
   "execution_count": 532,
   "metadata": {},
   "outputs": [],
   "source": []
  },
  {
   "cell_type": "code",
   "execution_count": 533,
   "metadata": {},
   "outputs": [
    {
     "data": {
      "text/html": [
       "<div>\n",
       "<style>\n",
       "    .dataframe thead tr:only-child th {\n",
       "        text-align: right;\n",
       "    }\n",
       "\n",
       "    .dataframe thead th {\n",
       "        text-align: left;\n",
       "    }\n",
       "\n",
       "    .dataframe tbody tr th {\n",
       "        vertical-align: top;\n",
       "    }\n",
       "</style>\n",
       "<table border=\"1\" class=\"dataframe\">\n",
       "  <thead>\n",
       "    <tr style=\"text-align: right;\">\n",
       "      <th></th>\n",
       "      <th>Letter</th>\n",
       "      <th>Title</th>\n",
       "      <th>Text</th>\n",
       "    </tr>\n",
       "  </thead>\n",
       "  <tbody>\n",
       "    <tr>\n",
       "      <th>1</th>\n",
       "      <td>1</td>\n",
       "      <td>Letter[1, 2, 3, 4, 5, 6, 7, 8, 9, 10, 11, 12, 13, 14, 15, 16, 17, 18, 19, 20, 21, 22, 23, 24, 25, 26, 27, 28, 29, 30, 31, 32, 33, 34, 35, 36, 37, 38, 39, 40, 41, 42, 43, 44, 45, 46, 47, 48, 49, 50, 51, 52, 53, 54, 55, 56, 57, 58, 59, 60, 61, 62, 63, 64, 65, 66, 67, 68, 69, 70, 71, 72, 73, 74, 75...</td>\n",
       "      <td>Greetings from Seneca to his friend Lucilius. \\n1. Continue to act thus, my dear Lucilius – set yourself free for your own sake; gather and save your time, which till lately has been forced from you, or filched away, or has merely slipped from your hands. Make yourself believe the truth of my wo...</td>\n",
       "    </tr>\n",
       "    <tr>\n",
       "      <th>2</th>\n",
       "      <td>2</td>\n",
       "      <td>Letter[1, 2, 3, 4, 5, 6, 7, 8, 9, 10, 11, 12, 13, 14, 15, 16, 17, 18, 19, 20, 21, 22, 23, 24, 25, 26, 27, 28, 29, 30, 31, 32, 33, 34, 35, 36, 37, 38, 39, 40, 41, 42, 43, 44, 45, 46, 47, 48, 49, 50, 51, 52, 53, 54, 55, 56, 57, 58, 59, 60, 61, 62, 63, 64, 65, 66, 67, 68, 69, 70, 71, 72, 73, 74, 75...</td>\n",
       "      <td>1. Judging by what you write me, and by what I hear, I am forming a good opinion regarding your future.  You do not run hither and thither and distract yourself by changing your abode; for such restlessness is the sign of a disordered spirit.  The primary indication, to my thinking, of a well-or...</td>\n",
       "    </tr>\n",
       "    <tr>\n",
       "      <th>3</th>\n",
       "      <td>3</td>\n",
       "      <td>Letter[1, 2, 3, 4, 5, 6, 7, 8, 9, 10, 11, 12, 13, 14, 15, 16, 17, 18, 19, 20, 21, 22, 23, 24, 25, 26, 27, 28, 29, 30, 31, 32, 33, 34, 35, 36, 37, 38, 39, 40, 41, 42, 43, 44, 45, 46, 47, 48, 49, 50, 51, 52, 53, 54, 55, 56, 57, 58, 59, 60, 61, 62, 63, 64, 65, 66, 67, 68, 69, 70, 71, 72, 73, 74, 75...</td>\n",
       "      <td>1. You have sent a letter to me through the hand of a \"friend\" of yours, as you call him.  And in your very next sentence you warn me not to discuss with him all the matters that concern you, saying that even you yourself are not accustomed to do this; in other words, you have in the same letter...</td>\n",
       "    </tr>\n",
       "    <tr>\n",
       "      <th>4</th>\n",
       "      <td>4</td>\n",
       "      <td>Letter[1, 2, 3, 4, 5, 6, 7, 8, 9, 10, 11, 12, 13, 14, 15, 16, 17, 18, 19, 20, 21, 22, 23, 24, 25, 26, 27, 28, 29, 30, 31, 32, 33, 34, 35, 36, 37, 38, 39, 40, 41, 42, 43, 44, 45, 46, 47, 48, 49, 50, 51, 52, 53, 54, 55, 56, 57, 58, 59, 60, 61, 62, 63, 64, 65, 66, 67, 68, 69, 70, 71, 72, 73, 74, 75...</td>\n",
       "      <td>1. Keep on as you have begun, and make all possible haste, so that you may have longer enjoyment of an improved mind, one that is at peace with itself.  Doubtless you will derive enjoyment during the time when you are improving your mind and setting it at peace with itself; but quite different i...</td>\n",
       "    </tr>\n",
       "    <tr>\n",
       "      <th>5</th>\n",
       "      <td>5</td>\n",
       "      <td>Letter[1, 2, 3, 4, 5, 6, 7, 8, 9, 10, 11, 12, 13, 14, 15, 16, 17, 18, 19, 20, 21, 22, 23, 24, 25, 26, 27, 28, 29, 30, 31, 32, 33, 34, 35, 36, 37, 38, 39, 40, 41, 42, 43, 44, 45, 46, 47, 48, 49, 50, 51, 52, 53, 54, 55, 56, 57, 58, 59, 60, 61, 62, 63, 64, 65, 66, 67, 68, 69, 70, 71, 72, 73, 74, 75...</td>\n",
       "      <td>1. I commend you and rejoice in the fact that you are persistent in your studies, and that, putting all else aside, you make it each day your endeavour to become a better man.  I do not merely exhort you to keep at it; I actually beg you to do so.  I warn you, however, not to act after the fashi...</td>\n",
       "    </tr>\n",
       "  </tbody>\n",
       "</table>\n",
       "</div>"
      ],
      "text/plain": [
       "  Letter  \\\n",
       "1      1   \n",
       "2      2   \n",
       "3      3   \n",
       "4      4   \n",
       "5      5   \n",
       "\n",
       "                                                                                                                                                                                                                                                                                                         Title  \\\n",
       "1  Letter[1, 2, 3, 4, 5, 6, 7, 8, 9, 10, 11, 12, 13, 14, 15, 16, 17, 18, 19, 20, 21, 22, 23, 24, 25, 26, 27, 28, 29, 30, 31, 32, 33, 34, 35, 36, 37, 38, 39, 40, 41, 42, 43, 44, 45, 46, 47, 48, 49, 50, 51, 52, 53, 54, 55, 56, 57, 58, 59, 60, 61, 62, 63, 64, 65, 66, 67, 68, 69, 70, 71, 72, 73, 74, 75...   \n",
       "2  Letter[1, 2, 3, 4, 5, 6, 7, 8, 9, 10, 11, 12, 13, 14, 15, 16, 17, 18, 19, 20, 21, 22, 23, 24, 25, 26, 27, 28, 29, 30, 31, 32, 33, 34, 35, 36, 37, 38, 39, 40, 41, 42, 43, 44, 45, 46, 47, 48, 49, 50, 51, 52, 53, 54, 55, 56, 57, 58, 59, 60, 61, 62, 63, 64, 65, 66, 67, 68, 69, 70, 71, 72, 73, 74, 75...   \n",
       "3  Letter[1, 2, 3, 4, 5, 6, 7, 8, 9, 10, 11, 12, 13, 14, 15, 16, 17, 18, 19, 20, 21, 22, 23, 24, 25, 26, 27, 28, 29, 30, 31, 32, 33, 34, 35, 36, 37, 38, 39, 40, 41, 42, 43, 44, 45, 46, 47, 48, 49, 50, 51, 52, 53, 54, 55, 56, 57, 58, 59, 60, 61, 62, 63, 64, 65, 66, 67, 68, 69, 70, 71, 72, 73, 74, 75...   \n",
       "4  Letter[1, 2, 3, 4, 5, 6, 7, 8, 9, 10, 11, 12, 13, 14, 15, 16, 17, 18, 19, 20, 21, 22, 23, 24, 25, 26, 27, 28, 29, 30, 31, 32, 33, 34, 35, 36, 37, 38, 39, 40, 41, 42, 43, 44, 45, 46, 47, 48, 49, 50, 51, 52, 53, 54, 55, 56, 57, 58, 59, 60, 61, 62, 63, 64, 65, 66, 67, 68, 69, 70, 71, 72, 73, 74, 75...   \n",
       "5  Letter[1, 2, 3, 4, 5, 6, 7, 8, 9, 10, 11, 12, 13, 14, 15, 16, 17, 18, 19, 20, 21, 22, 23, 24, 25, 26, 27, 28, 29, 30, 31, 32, 33, 34, 35, 36, 37, 38, 39, 40, 41, 42, 43, 44, 45, 46, 47, 48, 49, 50, 51, 52, 53, 54, 55, 56, 57, 58, 59, 60, 61, 62, 63, 64, 65, 66, 67, 68, 69, 70, 71, 72, 73, 74, 75...   \n",
       "\n",
       "                                                                                                                                                                                                                                                                                                          Text  \n",
       "1  Greetings from Seneca to his friend Lucilius. \\n1. Continue to act thus, my dear Lucilius – set yourself free for your own sake; gather and save your time, which till lately has been forced from you, or filched away, or has merely slipped from your hands. Make yourself believe the truth of my wo...  \n",
       "2  1. Judging by what you write me, and by what I hear, I am forming a good opinion regarding your future.  You do not run hither and thither and distract yourself by changing your abode; for such restlessness is the sign of a disordered spirit.  The primary indication, to my thinking, of a well-or...  \n",
       "3  1. You have sent a letter to me through the hand of a \"friend\" of yours, as you call him.  And in your very next sentence you warn me not to discuss with him all the matters that concern you, saying that even you yourself are not accustomed to do this; in other words, you have in the same letter...  \n",
       "4  1. Keep on as you have begun, and make all possible haste, so that you may have longer enjoyment of an improved mind, one that is at peace with itself.  Doubtless you will derive enjoyment during the time when you are improving your mind and setting it at peace with itself; but quite different i...  \n",
       "5  1. I commend you and rejoice in the fact that you are persistent in your studies, and that, putting all else aside, you make it each day your endeavour to become a better man.  I do not merely exhort you to keep at it; I actually beg you to do so.  I warn you, however, not to act after the fashi...  "
      ]
     },
     "execution_count": 533,
     "metadata": {},
     "output_type": "execute_result"
    }
   ],
   "source": [
    "letters.head()"
   ]
  },
  {
   "cell_type": "code",
   "execution_count": 402,
   "metadata": {
    "collapsed": true
   },
   "outputs": [],
   "source": [
    "letters.to_csv(\"../data/letters.csv\", index=False)"
   ]
  },
  {
   "cell_type": "markdown",
   "metadata": {},
   "source": [
    "### Unsupervised Machine Learning\n",
    "\n",
    "I'm ultimately interested in seeing what kinds of natural clusters/themes/topics are contained in the letters. First, we'll have to preprocess the text."
   ]
  },
  {
   "cell_type": "code",
   "execution_count": 551,
   "metadata": {
    "collapsed": true
   },
   "outputs": [],
   "source": [
    "import os\n",
    "import pandas as pd\n",
    "import matplotlib.pyplot as plt\n",
    "from sklearn.cluster import KMeans\n",
    "from sklearn.metrics.pairwise import cosine_similarity \n",
    "from sklearn.feature_extraction.text import ENGLISH_STOP_WORDS, TfidfVectorizer\n",
    "from scipy.cluster.hierarchy import dendrogram, ward\n",
    "\n",
    "pd.options.display.max_colwidth = 300\n",
    "%matplotlib inline"
   ]
  },
  {
   "cell_type": "code",
   "execution_count": 534,
   "metadata": {
    "collapsed": true
   },
   "outputs": [],
   "source": [
    "letters = pd.read_csv(\"../data/letters.csv\", index_col=\"Letter\")"
   ]
  },
  {
   "cell_type": "code",
   "execution_count": 535,
   "metadata": {},
   "outputs": [
    {
     "data": {
      "text/plain": [
       "(124, 1)"
      ]
     },
     "execution_count": 535,
     "metadata": {},
     "output_type": "execute_result"
    }
   ],
   "source": [
    "letters.shape"
   ]
  },
  {
   "cell_type": "code",
   "execution_count": 536,
   "metadata": {},
   "outputs": [
    {
     "data": {
      "text/html": [
       "<div>\n",
       "<style>\n",
       "    .dataframe thead tr:only-child th {\n",
       "        text-align: right;\n",
       "    }\n",
       "\n",
       "    .dataframe thead th {\n",
       "        text-align: left;\n",
       "    }\n",
       "\n",
       "    .dataframe tbody tr th {\n",
       "        vertical-align: top;\n",
       "    }\n",
       "</style>\n",
       "<table border=\"1\" class=\"dataframe\">\n",
       "  <thead>\n",
       "    <tr style=\"text-align: right;\">\n",
       "      <th></th>\n",
       "      <th>Text</th>\n",
       "    </tr>\n",
       "    <tr>\n",
       "      <th>Letter</th>\n",
       "      <th></th>\n",
       "    </tr>\n",
       "  </thead>\n",
       "  <tbody>\n",
       "    <tr>\n",
       "      <th>120</th>\n",
       "      <td>1. Your letter roamed, over several little problems, but finally dwelt upon this alone, asking for explanation: \"How do we acquire a knowledge of that which is good and that which is honourable?\" In the opinion of other schools,[1] these two qualities are distinct; among our followers, however, ...</td>\n",
       "    </tr>\n",
       "    <tr>\n",
       "      <th>121</th>\n",
       "      <td>1. You will bring suit against me, I feel sure, when I set forth for you to-day's little problem, with which we have already fumbled long enough.  You will cry out again: \"What has this to do with character?\" Cry out if you like, but let me first of all match you with other opponents,[1] against...</td>\n",
       "    </tr>\n",
       "    <tr>\n",
       "      <th>122</th>\n",
       "      <td>1. The day has already begun to lessen.  It has shrunk considerably, but yet will still allow a goodly space of time if one rises, so to speak, with the day itself.  We are more industrious, and we are better men if we anticipate the day and welcome the dawn; but we are base churls if we lie doz...</td>\n",
       "    </tr>\n",
       "    <tr>\n",
       "      <th>123</th>\n",
       "      <td>1. Wearied with the discomfort rather than with the length of my journey, I have reached my Alban villa late at night, and I find nothing in readiness except myself.  So I am getting rid of fatigue at my writing-table:  I derive some good from this tardiness on the part of my cook and my baker. ...</td>\n",
       "    </tr>\n",
       "    <tr>\n",
       "      <th>124</th>\n",
       "      <td>1. Full many an ancient precept could I give,\\nDidst thou not shrink, and feel it shame to learn\\nSuch lowly duties.[1]\\nBut you do not shrink, nor are you deterred by any subtleties of study. For your cultivated mind is not wont to investigate such important subjects in a free-and-easy manner. ...</td>\n",
       "    </tr>\n",
       "  </tbody>\n",
       "</table>\n",
       "</div>"
      ],
      "text/plain": [
       "                                                                                                                                                                                                                                                                                                               Text\n",
       "Letter                                                                                                                                                                                                                                                                                                             \n",
       "120     1. Your letter roamed, over several little problems, but finally dwelt upon this alone, asking for explanation: \"How do we acquire a knowledge of that which is good and that which is honourable?\" In the opinion of other schools,[1] these two qualities are distinct; among our followers, however, ...\n",
       "121     1. You will bring suit against me, I feel sure, when I set forth for you to-day's little problem, with which we have already fumbled long enough.  You will cry out again: \"What has this to do with character?\" Cry out if you like, but let me first of all match you with other opponents,[1] against...\n",
       "122     1. The day has already begun to lessen.  It has shrunk considerably, but yet will still allow a goodly space of time if one rises, so to speak, with the day itself.  We are more industrious, and we are better men if we anticipate the day and welcome the dawn; but we are base churls if we lie doz...\n",
       "123     1. Wearied with the discomfort rather than with the length of my journey, I have reached my Alban villa late at night, and I find nothing in readiness except myself.  So I am getting rid of fatigue at my writing-table:  I derive some good from this tardiness on the part of my cook and my baker. ...\n",
       "124     1. Full many an ancient precept could I give,\\nDidst thou not shrink, and feel it shame to learn\\nSuch lowly duties.[1]\\nBut you do not shrink, nor are you deterred by any subtleties of study. For your cultivated mind is not wont to investigate such important subjects in a free-and-easy manner. ..."
      ]
     },
     "execution_count": 536,
     "metadata": {},
     "output_type": "execute_result"
    }
   ],
   "source": [
    "letters.tail()"
   ]
  },
  {
   "cell_type": "code",
   "execution_count": 472,
   "metadata": {
    "collapsed": true
   },
   "outputs": [],
   "source": [
    "num = []\n",
    "for i in range(1000):\n",
    "    num.append(str(i))"
   ]
  },
  {
   "cell_type": "code",
   "execution_count": 561,
   "metadata": {
    "collapsed": true
   },
   "outputs": [],
   "source": [
    "my_stopwords = ENGLISH_STOP_WORDS.union(num)\n",
    "tfidf_vec = TfidfVectorizer(use_idf=False, \n",
    "                            stop_words=my_stopwords, \n",
    "                            max_features=100,\n",
    "                           )"
   ]
  },
  {
   "cell_type": "code",
   "execution_count": 562,
   "metadata": {
    "collapsed": true
   },
   "outputs": [],
   "source": [
    "tfidf_mat = tfidf_vec.fit_transform(letters['Text'])"
   ]
  },
  {
   "cell_type": "code",
   "execution_count": 563,
   "metadata": {},
   "outputs": [
    {
     "data": {
      "text/html": [
       "<div>\n",
       "<style>\n",
       "    .dataframe thead tr:only-child th {\n",
       "        text-align: right;\n",
       "    }\n",
       "\n",
       "    .dataframe thead th {\n",
       "        text-align: left;\n",
       "    }\n",
       "\n",
       "    .dataframe tbody tr th {\n",
       "        vertical-align: top;\n",
       "    }\n",
       "</style>\n",
       "<table border=\"1\" class=\"dataframe\">\n",
       "  <thead>\n",
       "    <tr style=\"text-align: right;\">\n",
       "      <th></th>\n",
       "      <th>according</th>\n",
       "      <th>age</th>\n",
       "      <th>ask</th>\n",
       "      <th>away</th>\n",
       "      <th>believe</th>\n",
       "      <th>better</th>\n",
       "      <th>body</th>\n",
       "      <th>case</th>\n",
       "      <th>certain</th>\n",
       "      <th>come</th>\n",
       "      <th>...</th>\n",
       "      <th>truth</th>\n",
       "      <th>unless</th>\n",
       "      <th>use</th>\n",
       "      <th>virtue</th>\n",
       "      <th>way</th>\n",
       "      <th>wisdom</th>\n",
       "      <th>wise</th>\n",
       "      <th>wish</th>\n",
       "      <th>words</th>\n",
       "      <th>work</th>\n",
       "    </tr>\n",
       "    <tr>\n",
       "      <th>Letter</th>\n",
       "      <th></th>\n",
       "      <th></th>\n",
       "      <th></th>\n",
       "      <th></th>\n",
       "      <th></th>\n",
       "      <th></th>\n",
       "      <th></th>\n",
       "      <th></th>\n",
       "      <th></th>\n",
       "      <th></th>\n",
       "      <th></th>\n",
       "      <th></th>\n",
       "      <th></th>\n",
       "      <th></th>\n",
       "      <th></th>\n",
       "      <th></th>\n",
       "      <th></th>\n",
       "      <th></th>\n",
       "      <th></th>\n",
       "      <th></th>\n",
       "      <th></th>\n",
       "    </tr>\n",
       "  </thead>\n",
       "  <tbody>\n",
       "    <tr>\n",
       "      <th>1</th>\n",
       "      <td>0.000000</td>\n",
       "      <td>0.000000</td>\n",
       "      <td>0.000000</td>\n",
       "      <td>0.098533</td>\n",
       "      <td>0.098533</td>\n",
       "      <td>0.000000</td>\n",
       "      <td>0.000000</td>\n",
       "      <td>0.0</td>\n",
       "      <td>0.098533</td>\n",
       "      <td>0.000000</td>\n",
       "      <td>...</td>\n",
       "      <td>0.098533</td>\n",
       "      <td>0.000000</td>\n",
       "      <td>0.0</td>\n",
       "      <td>0.000000</td>\n",
       "      <td>0.000000</td>\n",
       "      <td>0.000000</td>\n",
       "      <td>0.0</td>\n",
       "      <td>0.000000</td>\n",
       "      <td>0.098533</td>\n",
       "      <td>0.0</td>\n",
       "    </tr>\n",
       "    <tr>\n",
       "      <th>2</th>\n",
       "      <td>0.000000</td>\n",
       "      <td>0.000000</td>\n",
       "      <td>0.131306</td>\n",
       "      <td>0.000000</td>\n",
       "      <td>0.000000</td>\n",
       "      <td>0.000000</td>\n",
       "      <td>0.131306</td>\n",
       "      <td>0.0</td>\n",
       "      <td>0.000000</td>\n",
       "      <td>0.131306</td>\n",
       "      <td>...</td>\n",
       "      <td>0.000000</td>\n",
       "      <td>0.000000</td>\n",
       "      <td>0.0</td>\n",
       "      <td>0.000000</td>\n",
       "      <td>0.000000</td>\n",
       "      <td>0.000000</td>\n",
       "      <td>0.0</td>\n",
       "      <td>0.131306</td>\n",
       "      <td>0.000000</td>\n",
       "      <td>0.0</td>\n",
       "    </tr>\n",
       "    <tr>\n",
       "      <th>3</th>\n",
       "      <td>0.000000</td>\n",
       "      <td>0.000000</td>\n",
       "      <td>0.000000</td>\n",
       "      <td>0.000000</td>\n",
       "      <td>0.000000</td>\n",
       "      <td>0.000000</td>\n",
       "      <td>0.000000</td>\n",
       "      <td>0.0</td>\n",
       "      <td>0.072357</td>\n",
       "      <td>0.000000</td>\n",
       "      <td>...</td>\n",
       "      <td>0.000000</td>\n",
       "      <td>0.000000</td>\n",
       "      <td>0.0</td>\n",
       "      <td>0.000000</td>\n",
       "      <td>0.144715</td>\n",
       "      <td>0.000000</td>\n",
       "      <td>0.0</td>\n",
       "      <td>0.000000</td>\n",
       "      <td>0.144715</td>\n",
       "      <td>0.0</td>\n",
       "    </tr>\n",
       "    <tr>\n",
       "      <th>4</th>\n",
       "      <td>0.000000</td>\n",
       "      <td>0.050637</td>\n",
       "      <td>0.000000</td>\n",
       "      <td>0.151911</td>\n",
       "      <td>0.000000</td>\n",
       "      <td>0.000000</td>\n",
       "      <td>0.000000</td>\n",
       "      <td>0.0</td>\n",
       "      <td>0.000000</td>\n",
       "      <td>0.101274</td>\n",
       "      <td>...</td>\n",
       "      <td>0.000000</td>\n",
       "      <td>0.050637</td>\n",
       "      <td>0.0</td>\n",
       "      <td>0.050637</td>\n",
       "      <td>0.000000</td>\n",
       "      <td>0.050637</td>\n",
       "      <td>0.0</td>\n",
       "      <td>0.000000</td>\n",
       "      <td>0.000000</td>\n",
       "      <td>0.0</td>\n",
       "    </tr>\n",
       "    <tr>\n",
       "      <th>5</th>\n",
       "      <td>0.070711</td>\n",
       "      <td>0.000000</td>\n",
       "      <td>0.000000</td>\n",
       "      <td>0.070711</td>\n",
       "      <td>0.070711</td>\n",
       "      <td>0.070711</td>\n",
       "      <td>0.070711</td>\n",
       "      <td>0.0</td>\n",
       "      <td>0.000000</td>\n",
       "      <td>0.070711</td>\n",
       "      <td>...</td>\n",
       "      <td>0.000000</td>\n",
       "      <td>0.000000</td>\n",
       "      <td>0.0</td>\n",
       "      <td>0.000000</td>\n",
       "      <td>0.282843</td>\n",
       "      <td>0.000000</td>\n",
       "      <td>0.0</td>\n",
       "      <td>0.141421</td>\n",
       "      <td>0.070711</td>\n",
       "      <td>0.0</td>\n",
       "    </tr>\n",
       "  </tbody>\n",
       "</table>\n",
       "<p>5 rows × 100 columns</p>\n",
       "</div>"
      ],
      "text/plain": [
       "        according       age       ask      away   believe    better      body  \\\n",
       "Letter                                                                          \n",
       "1        0.000000  0.000000  0.000000  0.098533  0.098533  0.000000  0.000000   \n",
       "2        0.000000  0.000000  0.131306  0.000000  0.000000  0.000000  0.131306   \n",
       "3        0.000000  0.000000  0.000000  0.000000  0.000000  0.000000  0.000000   \n",
       "4        0.000000  0.050637  0.000000  0.151911  0.000000  0.000000  0.000000   \n",
       "5        0.070711  0.000000  0.000000  0.070711  0.070711  0.070711  0.070711   \n",
       "\n",
       "        case   certain      come  ...      truth    unless  use    virtue  \\\n",
       "Letter                            ...                                       \n",
       "1        0.0  0.098533  0.000000  ...   0.098533  0.000000  0.0  0.000000   \n",
       "2        0.0  0.000000  0.131306  ...   0.000000  0.000000  0.0  0.000000   \n",
       "3        0.0  0.072357  0.000000  ...   0.000000  0.000000  0.0  0.000000   \n",
       "4        0.0  0.000000  0.101274  ...   0.000000  0.050637  0.0  0.050637   \n",
       "5        0.0  0.000000  0.070711  ...   0.000000  0.000000  0.0  0.000000   \n",
       "\n",
       "             way    wisdom  wise      wish     words  work  \n",
       "Letter                                                      \n",
       "1       0.000000  0.000000   0.0  0.000000  0.098533   0.0  \n",
       "2       0.000000  0.000000   0.0  0.131306  0.000000   0.0  \n",
       "3       0.144715  0.000000   0.0  0.000000  0.144715   0.0  \n",
       "4       0.000000  0.050637   0.0  0.000000  0.000000   0.0  \n",
       "5       0.282843  0.000000   0.0  0.141421  0.070711   0.0  \n",
       "\n",
       "[5 rows x 100 columns]"
      ]
     },
     "execution_count": 563,
     "metadata": {},
     "output_type": "execute_result"
    }
   ],
   "source": [
    "tfidf_df = pd.DataFrame(tfidf_mat.A, columns=tfidf_vec.get_feature_names(), index=letters.index)\n",
    "tfidf_df.head()"
   ]
  },
  {
   "cell_type": "markdown",
   "metadata": {},
   "source": [
    "#### What words have the highest frequency? \n",
    "(we have not weigthed by idf yet)"
   ]
  },
  {
   "cell_type": "code",
   "execution_count": 564,
   "metadata": {},
   "outputs": [
    {
     "data": {
      "text/plain": [
       "man       38.836540\n",
       "men       24.501838\n",
       "good      19.714522\n",
       "things    18.678982\n",
       "shall     17.123372\n",
       "life      17.044555\n",
       "time      15.511070\n",
       "does      14.038058\n",
       "make      11.507133\n",
       "mind      11.158131\n",
       "say       11.136783\n",
       "let       10.409032\n",
       "great     10.301426\n",
       "soul       9.976897\n",
       "death      9.941931\n",
       "dtype: float64"
      ]
     },
     "execution_count": 564,
     "metadata": {},
     "output_type": "execute_result"
    }
   ],
   "source": [
    "tfidf_df.sum().sort_values(ascending=False).head(15)"
   ]
  },
  {
   "cell_type": "markdown",
   "metadata": {},
   "source": [
    "#### Now we will weight by inverse document frequency"
   ]
  },
  {
   "cell_type": "code",
   "execution_count": 565,
   "metadata": {
    "collapsed": true
   },
   "outputs": [],
   "source": [
    "tfidf_vec.use_idf = True"
   ]
  },
  {
   "cell_type": "code",
   "execution_count": 566,
   "metadata": {
    "collapsed": true
   },
   "outputs": [],
   "source": [
    "tfidf_mat = tfidf_vec.fit_transform(letters['Text'])"
   ]
  },
  {
   "cell_type": "code",
   "execution_count": 567,
   "metadata": {},
   "outputs": [
    {
     "data": {
      "text/html": [
       "<div>\n",
       "<style>\n",
       "    .dataframe thead tr:only-child th {\n",
       "        text-align: right;\n",
       "    }\n",
       "\n",
       "    .dataframe thead th {\n",
       "        text-align: left;\n",
       "    }\n",
       "\n",
       "    .dataframe tbody tr th {\n",
       "        vertical-align: top;\n",
       "    }\n",
       "</style>\n",
       "<table border=\"1\" class=\"dataframe\">\n",
       "  <thead>\n",
       "    <tr style=\"text-align: right;\">\n",
       "      <th></th>\n",
       "      <th>according</th>\n",
       "      <th>age</th>\n",
       "      <th>ask</th>\n",
       "      <th>away</th>\n",
       "      <th>believe</th>\n",
       "      <th>better</th>\n",
       "      <th>body</th>\n",
       "      <th>case</th>\n",
       "      <th>certain</th>\n",
       "      <th>come</th>\n",
       "      <th>...</th>\n",
       "      <th>truth</th>\n",
       "      <th>unless</th>\n",
       "      <th>use</th>\n",
       "      <th>virtue</th>\n",
       "      <th>way</th>\n",
       "      <th>wisdom</th>\n",
       "      <th>wise</th>\n",
       "      <th>wish</th>\n",
       "      <th>words</th>\n",
       "      <th>work</th>\n",
       "    </tr>\n",
       "    <tr>\n",
       "      <th>Letter</th>\n",
       "      <th></th>\n",
       "      <th></th>\n",
       "      <th></th>\n",
       "      <th></th>\n",
       "      <th></th>\n",
       "      <th></th>\n",
       "      <th></th>\n",
       "      <th></th>\n",
       "      <th></th>\n",
       "      <th></th>\n",
       "      <th></th>\n",
       "      <th></th>\n",
       "      <th></th>\n",
       "      <th></th>\n",
       "      <th></th>\n",
       "      <th></th>\n",
       "      <th></th>\n",
       "      <th></th>\n",
       "      <th></th>\n",
       "      <th></th>\n",
       "      <th></th>\n",
       "    </tr>\n",
       "  </thead>\n",
       "  <tbody>\n",
       "    <tr>\n",
       "      <th>1</th>\n",
       "      <td>0.000000</td>\n",
       "      <td>0.000000</td>\n",
       "      <td>0.000000</td>\n",
       "      <td>0.097262</td>\n",
       "      <td>0.115394</td>\n",
       "      <td>0.000000</td>\n",
       "      <td>0.000000</td>\n",
       "      <td>0.0</td>\n",
       "      <td>0.094795</td>\n",
       "      <td>0.000000</td>\n",
       "      <td>...</td>\n",
       "      <td>0.122299</td>\n",
       "      <td>0.00000</td>\n",
       "      <td>0.0</td>\n",
       "      <td>0.000000</td>\n",
       "      <td>0.000000</td>\n",
       "      <td>0.000000</td>\n",
       "      <td>0.0</td>\n",
       "      <td>0.000000</td>\n",
       "      <td>0.098958</td>\n",
       "      <td>0.0</td>\n",
       "    </tr>\n",
       "    <tr>\n",
       "      <th>2</th>\n",
       "      <td>0.000000</td>\n",
       "      <td>0.000000</td>\n",
       "      <td>0.149725</td>\n",
       "      <td>0.000000</td>\n",
       "      <td>0.000000</td>\n",
       "      <td>0.000000</td>\n",
       "      <td>0.164068</td>\n",
       "      <td>0.0</td>\n",
       "      <td>0.000000</td>\n",
       "      <td>0.134907</td>\n",
       "      <td>...</td>\n",
       "      <td>0.000000</td>\n",
       "      <td>0.00000</td>\n",
       "      <td>0.0</td>\n",
       "      <td>0.000000</td>\n",
       "      <td>0.000000</td>\n",
       "      <td>0.000000</td>\n",
       "      <td>0.0</td>\n",
       "      <td>0.159539</td>\n",
       "      <td>0.000000</td>\n",
       "      <td>0.0</td>\n",
       "    </tr>\n",
       "    <tr>\n",
       "      <th>3</th>\n",
       "      <td>0.000000</td>\n",
       "      <td>0.000000</td>\n",
       "      <td>0.000000</td>\n",
       "      <td>0.000000</td>\n",
       "      <td>0.000000</td>\n",
       "      <td>0.000000</td>\n",
       "      <td>0.000000</td>\n",
       "      <td>0.0</td>\n",
       "      <td>0.062085</td>\n",
       "      <td>0.000000</td>\n",
       "      <td>...</td>\n",
       "      <td>0.000000</td>\n",
       "      <td>0.00000</td>\n",
       "      <td>0.0</td>\n",
       "      <td>0.000000</td>\n",
       "      <td>0.120037</td>\n",
       "      <td>0.000000</td>\n",
       "      <td>0.0</td>\n",
       "      <td>0.000000</td>\n",
       "      <td>0.129623</td>\n",
       "      <td>0.0</td>\n",
       "    </tr>\n",
       "    <tr>\n",
       "      <th>4</th>\n",
       "      <td>0.000000</td>\n",
       "      <td>0.070493</td>\n",
       "      <td>0.000000</td>\n",
       "      <td>0.153290</td>\n",
       "      <td>0.000000</td>\n",
       "      <td>0.000000</td>\n",
       "      <td>0.000000</td>\n",
       "      <td>0.0</td>\n",
       "      <td>0.000000</td>\n",
       "      <td>0.098758</td>\n",
       "      <td>...</td>\n",
       "      <td>0.000000</td>\n",
       "      <td>0.06689</td>\n",
       "      <td>0.0</td>\n",
       "      <td>0.069008</td>\n",
       "      <td>0.000000</td>\n",
       "      <td>0.069743</td>\n",
       "      <td>0.0</td>\n",
       "      <td>0.000000</td>\n",
       "      <td>0.000000</td>\n",
       "      <td>0.0</td>\n",
       "    </tr>\n",
       "    <tr>\n",
       "      <th>5</th>\n",
       "      <td>0.101431</td>\n",
       "      <td>0.000000</td>\n",
       "      <td>0.000000</td>\n",
       "      <td>0.073522</td>\n",
       "      <td>0.087229</td>\n",
       "      <td>0.084806</td>\n",
       "      <td>0.086408</td>\n",
       "      <td>0.0</td>\n",
       "      <td>0.000000</td>\n",
       "      <td>0.071050</td>\n",
       "      <td>...</td>\n",
       "      <td>0.000000</td>\n",
       "      <td>0.00000</td>\n",
       "      <td>0.0</td>\n",
       "      <td>0.000000</td>\n",
       "      <td>0.277087</td>\n",
       "      <td>0.000000</td>\n",
       "      <td>0.0</td>\n",
       "      <td>0.168046</td>\n",
       "      <td>0.074804</td>\n",
       "      <td>0.0</td>\n",
       "    </tr>\n",
       "  </tbody>\n",
       "</table>\n",
       "<p>5 rows × 100 columns</p>\n",
       "</div>"
      ],
      "text/plain": [
       "        according       age       ask      away   believe    better      body  \\\n",
       "Letter                                                                          \n",
       "1        0.000000  0.000000  0.000000  0.097262  0.115394  0.000000  0.000000   \n",
       "2        0.000000  0.000000  0.149725  0.000000  0.000000  0.000000  0.164068   \n",
       "3        0.000000  0.000000  0.000000  0.000000  0.000000  0.000000  0.000000   \n",
       "4        0.000000  0.070493  0.000000  0.153290  0.000000  0.000000  0.000000   \n",
       "5        0.101431  0.000000  0.000000  0.073522  0.087229  0.084806  0.086408   \n",
       "\n",
       "        case   certain      come  ...      truth   unless  use    virtue  \\\n",
       "Letter                            ...                                      \n",
       "1        0.0  0.094795  0.000000  ...   0.122299  0.00000  0.0  0.000000   \n",
       "2        0.0  0.000000  0.134907  ...   0.000000  0.00000  0.0  0.000000   \n",
       "3        0.0  0.062085  0.000000  ...   0.000000  0.00000  0.0  0.000000   \n",
       "4        0.0  0.000000  0.098758  ...   0.000000  0.06689  0.0  0.069008   \n",
       "5        0.0  0.000000  0.071050  ...   0.000000  0.00000  0.0  0.000000   \n",
       "\n",
       "             way    wisdom  wise      wish     words  work  \n",
       "Letter                                                      \n",
       "1       0.000000  0.000000   0.0  0.000000  0.098958   0.0  \n",
       "2       0.000000  0.000000   0.0  0.159539  0.000000   0.0  \n",
       "3       0.120037  0.000000   0.0  0.000000  0.129623   0.0  \n",
       "4       0.000000  0.069743   0.0  0.000000  0.000000   0.0  \n",
       "5       0.277087  0.000000   0.0  0.168046  0.074804   0.0  \n",
       "\n",
       "[5 rows x 100 columns]"
      ]
     },
     "execution_count": 567,
     "metadata": {},
     "output_type": "execute_result"
    }
   ],
   "source": [
    "tfidf_df = pd.DataFrame(tfidf_mat.A, columns=tfidf_vec.get_feature_names(), index=letters.index)\n",
    "tfidf_df.head()"
   ]
  },
  {
   "cell_type": "markdown",
   "metadata": {},
   "source": [
    "#### and see which words have the highest tf-idf values"
   ]
  },
  {
   "cell_type": "code",
   "execution_count": 568,
   "metadata": {},
   "outputs": [
    {
     "data": {
      "text/plain": [
       "living        0.833362\n",
       "friend        0.825446\n",
       "precepts      0.800622\n",
       "good          0.787287\n",
       "death         0.778658\n",
       "philosophy    0.771825\n",
       "wise          0.750597\n",
       "day           0.676441\n",
       "god           0.672064\n",
       "pain          0.654998\n",
       "life          0.634283\n",
       "man           0.630981\n",
       "words         0.626718\n",
       "body          0.625182\n",
       "did           0.601530\n",
       "dtype: float64"
      ]
     },
     "execution_count": 568,
     "metadata": {},
     "output_type": "execute_result"
    }
   ],
   "source": [
    "tfidf_df.max().sort_values(ascending=False).head(15)"
   ]
  },
  {
   "cell_type": "code",
   "execution_count": null,
   "metadata": {
    "collapsed": true
   },
   "outputs": [],
   "source": []
  },
  {
   "cell_type": "code",
   "execution_count": null,
   "metadata": {
    "collapsed": true
   },
   "outputs": [],
   "source": []
  },
  {
   "cell_type": "code",
   "execution_count": null,
   "metadata": {},
   "outputs": [],
   "source": []
  },
  {
   "cell_type": "markdown",
   "metadata": {},
   "source": [
    "#### Hierarchical Clustering\n",
    "\n",
    "By using hierarchical clustering, we can get a (visual) sense of whether or not there are any natural clusters across Seneca's 124 letters."
   ]
  },
  {
   "cell_type": "code",
   "execution_count": 569,
   "metadata": {
    "collapsed": true
   },
   "outputs": [],
   "source": [
    "dist = 1 - cosine_similarity(X=tfidf_mat)"
   ]
  },
  {
   "cell_type": "code",
   "execution_count": 570,
   "metadata": {},
   "outputs": [
    {
     "data": {
      "image/png": "[encoded data removed]",
      "text/plain": [
       "<matplotlib.figure.Figure at 0x11c80f278>"
      ]
     },
     "metadata": {},
     "output_type": "display_data"
    }
   ],
   "source": [
    "fig, ax = plt.subplots(1,1, figsize=(15,10))\n",
    "ax = dendrogram(ward(dist), orientation='right', labels=letters.index)\n",
    "plt.show()"
   ]
  },
  {
   "cell_type": "markdown",
   "metadata": {},
   "source": [
    "#### K-means Clustering"
   ]
  },
  {
   "cell_type": "code",
   "execution_count": 571,
   "metadata": {
    "collapsed": true
   },
   "outputs": [],
   "source": [
    "num_clusters = 3\n",
    "km = KMeans(n_clusters=num_clusters)"
   ]
  },
  {
   "cell_type": "code",
   "execution_count": 572,
   "metadata": {
    "collapsed": true
   },
   "outputs": [],
   "source": [
    "model = km.fit(tfidf_mat)"
   ]
  },
  {
   "cell_type": "code",
   "execution_count": 574,
   "metadata": {},
   "outputs": [
    {
     "data": {
      "text/plain": [
       "array([[51, 30, 93, 86, 96, 55, 65, 28, 81, 18,  6, 35, 58, 41, 20, 95, 39,\n",
       "        49, 24, 75, 72, 31, 37, 32, 94, 38, 57, 79,  8, 29, 85, 74, 25, 40,\n",
       "        88, 52, 26, 99,  9, 69,  2, 66, 92, 64, 42, 87, 61,  0, 70, 83, 33,\n",
       "        80, 15, 91, 50,  7, 22, 68, 36, 44, 59, 98, 21, 17, 77, 53, 84, 12,\n",
       "        10, 97,  3, 71, 89, 76,  5, 73, 90, 54, 34, 46, 67, 23, 56, 62, 19,\n",
       "        78, 11, 47, 82, 48, 45, 63, 43, 14, 13,  4, 16, 27, 60,  1],\n",
       "       [13, 41, 51, 88, 12, 86, 60, 16, 79, 46, 18, 24,  1, 55,  3, 75, 44,\n",
       "        63, 19, 49, 57, 40, 87, 30, 48, 38, 25, 85, 14,  9, 39, 58,  6, 81,\n",
       "        43, 66, 83, 10, 27, 98, 32, 54, 93, 59,  2, 73, 69, 62, 45, 78, 72,\n",
       "        56, 42, 11,  8, 20,  4, 34, 94, 53, 36, 80, 15, 23, 61, 52, 84, 67,\n",
       "        82, 21, 68, 99, 50, 71, 26, 92, 90, 64, 91, 47, 37, 29,  7, 17,  5,\n",
       "        28, 33, 76, 89, 96, 22, 97, 31, 65, 95, 77, 35,  0, 74, 70],\n",
       "       [51, 55, 79, 88, 86, 98, 30, 18, 40, 57, 32, 27, 56, 41, 75, 39, 49,\n",
       "        42, 94, 81, 46, 72, 12, 38, 44, 58,  8, 67, 97, 66, 45, 87, 24, 15,\n",
       "        25, 59,  9, 36, 85,  7,  3, 65, 52, 60, 83, 26, 23, 61, 80, 11, 22,\n",
       "        34,  2, 47, 20, 14,  4, 13, 64, 82, 89, 54, 53, 33,  5, 92, 43,  6,\n",
       "        76, 74, 62, 77, 48, 69, 84, 50, 73, 90, 10,  0, 95, 96, 78, 91,  1,\n",
       "        99, 35, 37, 21, 71, 19, 29, 93, 68, 17, 63, 70, 16, 28, 31]])"
      ]
     },
     "execution_count": 574,
     "metadata": {},
     "output_type": "execute_result"
    }
   ],
   "source": [
    "model_centroids_sorted = model.cluster_centers_.argsort()[:,::-1]\n",
    "model_centroids_sorted"
   ]
  },
  {
   "cell_type": "code",
   "execution_count": 575,
   "metadata": {},
   "outputs": [
    {
     "name": "stdout",
     "output_type": "stream",
     "text": [
      "Cluster0:  man,  good,  virtue,  things,  wise,  men,  philosophy,  god,  soul,  does, \n",
      "Cluster1:  death,  life,  man,  time,  day,  things,  old,  die,  shall,  long, \n",
      "Cluster2:  man,  men,  shall,  time,  things,  words,  good,  does,  let,  mind, \n"
     ]
    }
   ],
   "source": [
    "feature_names = tfidf_vec.get_feature_names()\n",
    "top_words_string = \"\"\n",
    "\n",
    "for i in range(num_clusters):\n",
    "    top_words_string = \"Cluster\" + str(i) + \": \"\n",
    "    for term_idx in model_centroids_sorted[i, :10]:\n",
    "        top_words_string = top_words_string + \" \" + feature_names[term_idx] + \", \"\n",
    "    print(top_words_string)\n",
    "    \n",
    "    \n",
    "    "
   ]
  },
  {
   "cell_type": "code",
   "execution_count": 576,
   "metadata": {},
   "outputs": [],
   "source": [
    "tfidf_df[\"cluster\"] = km.labels_"
   ]
  },
  {
   "cell_type": "code",
   "execution_count": 577,
   "metadata": {},
   "outputs": [
    {
     "data": {
      "image/png": "[encoded data removed]",
      "text/plain": [
       "<matplotlib.figure.Figure at 0x11eb9fda0>"
      ]
     },
     "metadata": {},
     "output_type": "display_data"
    }
   ],
   "source": [
    "tfidf_df[\"cluster\"].value_counts().plot(\"bar\");"
   ]
  },
  {
   "cell_type": "code",
   "execution_count": null,
   "metadata": {
    "collapsed": true
   },
   "outputs": [],
   "source": []
  }
 ],
 "metadata": {
  "kernelspec": {
   "display_name": "Python 3",
   "language": "python",
   "name": "python3"
  },
  "language_info": {
   "codemirror_mode": {
    "name": "ipython",
    "version": 3
   },
   "file_extension": ".py",
   "mimetype": "text/x-python",
   "name": "python",
   "nbconvert_exporter": "python",
   "pygments_lexer": "ipython3",
   "version": "3.6.1"
  }
 },
 "nbformat": 4,
 "nbformat_minor": 2
}
